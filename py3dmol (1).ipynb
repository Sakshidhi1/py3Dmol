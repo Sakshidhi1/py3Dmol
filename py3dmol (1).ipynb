{
 "cells": [
  {
   "cell_type": "markdown",
   "id": "cdbdb662",
   "metadata": {
    "papermill": {
     "duration": 0.003578,
     "end_time": "2025-05-22T13:14:27.420823",
     "exception": false,
     "start_time": "2025-05-22T13:14:27.417245",
     "status": "completed"
    },
    "tags": []
   },
   "source": [
    "****py3Dmol****\n",
    "********py3Dmol is a tool in Python that helps you see 3D pictures of molecules right inside your notebook. It works with a popular JavaScript library called 3Dmol.js but lets you use it easily in Python.\n",
    "\n",
    "With py3Dmol, you can load molecules from different files or databases and look at them in different styles, like cartoons, sticks, or spheres. You can rotate, zoom, and explore the molecules interactively.\n",
    "\n",
    "It’s very helpful if you want to study proteins or chemicals, especially in biology, chemistry, or drug research, and want to quickly visualize their structures without using complicated software********"
   ]
  },
  {
   "cell_type": "code",
   "execution_count": 1,
   "id": "7ffd53ca",
   "metadata": {
    "execution": {
     "iopub.execute_input": "2025-05-22T13:14:27.429619Z",
     "iopub.status.busy": "2025-05-22T13:14:27.428678Z",
     "iopub.status.idle": "2025-05-22T13:14:40.590041Z",
     "shell.execute_reply": "2025-05-22T13:14:40.588794Z"
    },
    "papermill": {
     "duration": 13.168422,
     "end_time": "2025-05-22T13:14:40.592666",
     "exception": false,
     "start_time": "2025-05-22T13:14:27.424244",
     "status": "completed"
    },
    "tags": []
   },
   "outputs": [
    {
     "name": "stdout",
     "output_type": "stream",
     "text": [
      "Collecting py3Dmol\r\n",
      "  Downloading py3Dmol-2.4.2-py2.py3-none-any.whl.metadata (1.9 kB)\r\n",
      "Downloading py3Dmol-2.4.2-py2.py3-none-any.whl (7.0 kB)\r\n",
      "Installing collected packages: py3Dmol\r\n",
      "Successfully installed py3Dmol-2.4.2\r\n"
     ]
    }
   ],
   "source": [
    "!pip install py3Dmol"
   ]
  },
  {
   "cell_type": "markdown",
   "id": "a440664b",
   "metadata": {
    "papermill": {
     "duration": 0.00311,
     "end_time": "2025-05-22T13:14:40.599298",
     "exception": false,
     "start_time": "2025-05-22T13:14:40.596188",
     "status": "completed"
    },
    "tags": []
   },
   "source": []
  },
  {
   "cell_type": "code",
   "execution_count": 2,
   "id": "e54b55d8",
   "metadata": {
    "execution": {
     "iopub.execute_input": "2025-05-22T13:14:40.607624Z",
     "iopub.status.busy": "2025-05-22T13:14:40.607279Z",
     "iopub.status.idle": "2025-05-22T13:14:40.631872Z",
     "shell.execute_reply": "2025-05-22T13:14:40.630805Z"
    },
    "papermill": {
     "duration": 0.03183,
     "end_time": "2025-05-22T13:14:40.634444",
     "exception": false,
     "start_time": "2025-05-22T13:14:40.602614",
     "status": "completed"
    },
    "tags": []
   },
   "outputs": [],
   "source": [
    "import py3Dmol"
   ]
  },
  {
   "cell_type": "code",
   "execution_count": 3,
   "id": "f95a8be6",
   "metadata": {
    "execution": {
     "iopub.execute_input": "2025-05-22T13:14:40.642883Z",
     "iopub.status.busy": "2025-05-22T13:14:40.642545Z",
     "iopub.status.idle": "2025-05-22T13:14:40.652752Z",
     "shell.execute_reply": "2025-05-22T13:14:40.651741Z"
    },
    "papermill": {
     "duration": 0.016749,
     "end_time": "2025-05-22T13:14:40.654807",
     "exception": false,
     "start_time": "2025-05-22T13:14:40.638058",
     "status": "completed"
    },
    "tags": []
   },
   "outputs": [
    {
     "data": {
      "application/3dmoljs_load.v0": "<div id=\"3dmolviewer_1747919680645678\"  style=\"position: relative; width: 640px; height: 480px;\">\n        <p id=\"3dmolwarning_1747919680645678\" style=\"background-color:#ffcccc;color:black\">3Dmol.js failed to load for some reason.  Please check your browser console for error messages.<br></p>\n        </div>\n<script>\n\nvar loadScriptAsync = function(uri){\n  return new Promise((resolve, reject) => {\n    //this is to ignore the existence of requirejs amd\n    var savedexports, savedmodule;\n    if (typeof exports !== 'undefined') savedexports = exports;\n    else exports = {}\n    if (typeof module !== 'undefined') savedmodule = module;\n    else module = {}\n\n    var tag = document.createElement('script');\n    tag.src = uri;\n    tag.async = true;\n    tag.onload = () => {\n        exports = savedexports;\n        module = savedmodule;\n        resolve();\n    };\n  var firstScriptTag = document.getElementsByTagName('script')[0];\n  firstScriptTag.parentNode.insertBefore(tag, firstScriptTag);\n});\n};\n\nif(typeof $3Dmolpromise === 'undefined') {\n$3Dmolpromise = null;\n  $3Dmolpromise = loadScriptAsync('https://cdnjs.cloudflare.com/ajax/libs/3Dmol/2.4.2/3Dmol-min.js');\n}\n\nvar viewer_1747919680645678 = null;\nvar warn = document.getElementById(\"3dmolwarning_1747919680645678\");\nif(warn) {\n    warn.parentNode.removeChild(warn);\n}\n$3Dmolpromise.then(function() {\nviewer_1747919680645678 = $3Dmol.createViewer(document.getElementById(\"3dmolviewer_1747919680645678\"),{backgroundColor:\"white\"});\n$3Dmol.download(\"6VSB\", viewer_1747919680645678, {}, function() {\nviewer_1747919680645678.zoomTo();\n\tviewer_1747919680645678.setStyle({\"cartoon\": {\"color\": \"spectrum\"}});\nviewer_1747919680645678.render();\n})\n});\n</script>",
      "text/html": [
       "<div id=\"3dmolviewer_1747919680645678\"  style=\"position: relative; width: 640px; height: 480px;\">\n",
       "        <p id=\"3dmolwarning_1747919680645678\" style=\"background-color:#ffcccc;color:black\">3Dmol.js failed to load for some reason.  Please check your browser console for error messages.<br></p>\n",
       "        </div>\n",
       "<script>\n",
       "\n",
       "var loadScriptAsync = function(uri){\n",
       "  return new Promise((resolve, reject) => {\n",
       "    //this is to ignore the existence of requirejs amd\n",
       "    var savedexports, savedmodule;\n",
       "    if (typeof exports !== 'undefined') savedexports = exports;\n",
       "    else exports = {}\n",
       "    if (typeof module !== 'undefined') savedmodule = module;\n",
       "    else module = {}\n",
       "\n",
       "    var tag = document.createElement('script');\n",
       "    tag.src = uri;\n",
       "    tag.async = true;\n",
       "    tag.onload = () => {\n",
       "        exports = savedexports;\n",
       "        module = savedmodule;\n",
       "        resolve();\n",
       "    };\n",
       "  var firstScriptTag = document.getElementsByTagName('script')[0];\n",
       "  firstScriptTag.parentNode.insertBefore(tag, firstScriptTag);\n",
       "});\n",
       "};\n",
       "\n",
       "if(typeof $3Dmolpromise === 'undefined') {\n",
       "$3Dmolpromise = null;\n",
       "  $3Dmolpromise = loadScriptAsync('https://cdnjs.cloudflare.com/ajax/libs/3Dmol/2.4.2/3Dmol-min.js');\n",
       "}\n",
       "\n",
       "var viewer_1747919680645678 = null;\n",
       "var warn = document.getElementById(\"3dmolwarning_1747919680645678\");\n",
       "if(warn) {\n",
       "    warn.parentNode.removeChild(warn);\n",
       "}\n",
       "$3Dmolpromise.then(function() {\n",
       "viewer_1747919680645678 = $3Dmol.createViewer(document.getElementById(\"3dmolviewer_1747919680645678\"),{backgroundColor:\"white\"});\n",
       "$3Dmol.download(\"6VSB\", viewer_1747919680645678, {}, function() {\n",
       "viewer_1747919680645678.zoomTo();\n",
       "\tviewer_1747919680645678.setStyle({\"cartoon\": {\"color\": \"spectrum\"}});\n",
       "viewer_1747919680645678.render();\n",
       "})\n",
       "});\n",
       "</script>"
      ]
     },
     "metadata": {},
     "output_type": "display_data"
    },
    {
     "data": {
      "text/plain": [
       "<py3Dmol.view at 0x7965c9c66290>"
      ]
     },
     "execution_count": 3,
     "metadata": {},
     "output_type": "execute_result"
    }
   ],
   "source": [
    "# Load the structure from the Protein Data Bank (PDB) using its ID\n",
    "view = py3Dmol.view(query='6VSB')\n",
    "view.setStyle({'cartoon': {'color': 'spectrum'}})\n",
    "view\n"
   ]
  },
  {
   "cell_type": "code",
   "execution_count": 4,
   "id": "0ce0f4fe",
   "metadata": {
    "execution": {
     "iopub.execute_input": "2025-05-22T13:14:40.663861Z",
     "iopub.status.busy": "2025-05-22T13:14:40.663531Z",
     "iopub.status.idle": "2025-05-22T13:14:40.672348Z",
     "shell.execute_reply": "2025-05-22T13:14:40.671231Z"
    },
    "papermill": {
     "duration": 0.016219,
     "end_time": "2025-05-22T13:14:40.674799",
     "exception": false,
     "start_time": "2025-05-22T13:14:40.658580",
     "status": "completed"
    },
    "tags": []
   },
   "outputs": [
    {
     "data": {
      "application/3dmoljs_load.v0": "<div id=\"3dmolviewer_1747919680665642\"  style=\"position: relative; width: 640px; height: 480px;\">\n        <p id=\"3dmolwarning_1747919680665642\" style=\"background-color:#ffcccc;color:black\">3Dmol.js failed to load for some reason.  Please check your browser console for error messages.<br></p>\n        </div>\n<script>\n\nvar loadScriptAsync = function(uri){\n  return new Promise((resolve, reject) => {\n    //this is to ignore the existence of requirejs amd\n    var savedexports, savedmodule;\n    if (typeof exports !== 'undefined') savedexports = exports;\n    else exports = {}\n    if (typeof module !== 'undefined') savedmodule = module;\n    else module = {}\n\n    var tag = document.createElement('script');\n    tag.src = uri;\n    tag.async = true;\n    tag.onload = () => {\n        exports = savedexports;\n        module = savedmodule;\n        resolve();\n    };\n  var firstScriptTag = document.getElementsByTagName('script')[0];\n  firstScriptTag.parentNode.insertBefore(tag, firstScriptTag);\n});\n};\n\nif(typeof $3Dmolpromise === 'undefined') {\n$3Dmolpromise = null;\n  $3Dmolpromise = loadScriptAsync('https://cdnjs.cloudflare.com/ajax/libs/3Dmol/2.4.2/3Dmol-min.js');\n}\n\nvar viewer_1747919680665642 = null;\nvar warn = document.getElementById(\"3dmolwarning_1747919680665642\");\nif(warn) {\n    warn.parentNode.removeChild(warn);\n}\n$3Dmolpromise.then(function() {\nviewer_1747919680665642 = $3Dmol.createViewer(document.getElementById(\"3dmolviewer_1747919680665642\"),{backgroundColor:\"white\"});\n$3Dmol.download(\"6VSB\", viewer_1747919680665642, {}, function() {\nviewer_1747919680665642.zoomTo();\n\tviewer_1747919680665642.setStyle({\"sphere\": {\"color\": \"spectrum\"}});\nviewer_1747919680665642.render();\n})\n});\n</script>",
      "text/html": [
       "<div id=\"3dmolviewer_1747919680665642\"  style=\"position: relative; width: 640px; height: 480px;\">\n",
       "        <p id=\"3dmolwarning_1747919680665642\" style=\"background-color:#ffcccc;color:black\">3Dmol.js failed to load for some reason.  Please check your browser console for error messages.<br></p>\n",
       "        </div>\n",
       "<script>\n",
       "\n",
       "var loadScriptAsync = function(uri){\n",
       "  return new Promise((resolve, reject) => {\n",
       "    //this is to ignore the existence of requirejs amd\n",
       "    var savedexports, savedmodule;\n",
       "    if (typeof exports !== 'undefined') savedexports = exports;\n",
       "    else exports = {}\n",
       "    if (typeof module !== 'undefined') savedmodule = module;\n",
       "    else module = {}\n",
       "\n",
       "    var tag = document.createElement('script');\n",
       "    tag.src = uri;\n",
       "    tag.async = true;\n",
       "    tag.onload = () => {\n",
       "        exports = savedexports;\n",
       "        module = savedmodule;\n",
       "        resolve();\n",
       "    };\n",
       "  var firstScriptTag = document.getElementsByTagName('script')[0];\n",
       "  firstScriptTag.parentNode.insertBefore(tag, firstScriptTag);\n",
       "});\n",
       "};\n",
       "\n",
       "if(typeof $3Dmolpromise === 'undefined') {\n",
       "$3Dmolpromise = null;\n",
       "  $3Dmolpromise = loadScriptAsync('https://cdnjs.cloudflare.com/ajax/libs/3Dmol/2.4.2/3Dmol-min.js');\n",
       "}\n",
       "\n",
       "var viewer_1747919680665642 = null;\n",
       "var warn = document.getElementById(\"3dmolwarning_1747919680665642\");\n",
       "if(warn) {\n",
       "    warn.parentNode.removeChild(warn);\n",
       "}\n",
       "$3Dmolpromise.then(function() {\n",
       "viewer_1747919680665642 = $3Dmol.createViewer(document.getElementById(\"3dmolviewer_1747919680665642\"),{backgroundColor:\"white\"});\n",
       "$3Dmol.download(\"6VSB\", viewer_1747919680665642, {}, function() {\n",
       "viewer_1747919680665642.zoomTo();\n",
       "\tviewer_1747919680665642.setStyle({\"sphere\": {\"color\": \"spectrum\"}});\n",
       "viewer_1747919680665642.render();\n",
       "})\n",
       "});\n",
       "</script>"
      ]
     },
     "metadata": {},
     "output_type": "display_data"
    },
    {
     "data": {
      "text/plain": [
       "<py3Dmol.view at 0x7965c9c66470>"
      ]
     },
     "execution_count": 4,
     "metadata": {},
     "output_type": "execute_result"
    }
   ],
   "source": [
    "# Change Visualization Style\n",
    "#Sphere Style\n",
    "\n",
    "view = py3Dmol.view(query='6VSB')\n",
    "view.setStyle({'sphere': {'color': 'spectrum'}})\n",
    "view"
   ]
  },
  {
   "cell_type": "code",
   "execution_count": 5,
   "id": "371f1a6b",
   "metadata": {
    "execution": {
     "iopub.execute_input": "2025-05-22T13:14:40.684586Z",
     "iopub.status.busy": "2025-05-22T13:14:40.684235Z",
     "iopub.status.idle": "2025-05-22T13:14:40.692682Z",
     "shell.execute_reply": "2025-05-22T13:14:40.691637Z"
    },
    "papermill": {
     "duration": 0.015697,
     "end_time": "2025-05-22T13:14:40.694651",
     "exception": false,
     "start_time": "2025-05-22T13:14:40.678954",
     "status": "completed"
    },
    "tags": []
   },
   "outputs": [
    {
     "data": {
      "application/3dmoljs_load.v0": "<div id=\"3dmolviewer_17479196806863477\"  style=\"position: relative; width: 640px; height: 480px;\">\n        <p id=\"3dmolwarning_17479196806863477\" style=\"background-color:#ffcccc;color:black\">3Dmol.js failed to load for some reason.  Please check your browser console for error messages.<br></p>\n        </div>\n<script>\n\nvar loadScriptAsync = function(uri){\n  return new Promise((resolve, reject) => {\n    //this is to ignore the existence of requirejs amd\n    var savedexports, savedmodule;\n    if (typeof exports !== 'undefined') savedexports = exports;\n    else exports = {}\n    if (typeof module !== 'undefined') savedmodule = module;\n    else module = {}\n\n    var tag = document.createElement('script');\n    tag.src = uri;\n    tag.async = true;\n    tag.onload = () => {\n        exports = savedexports;\n        module = savedmodule;\n        resolve();\n    };\n  var firstScriptTag = document.getElementsByTagName('script')[0];\n  firstScriptTag.parentNode.insertBefore(tag, firstScriptTag);\n});\n};\n\nif(typeof $3Dmolpromise === 'undefined') {\n$3Dmolpromise = null;\n  $3Dmolpromise = loadScriptAsync('https://cdnjs.cloudflare.com/ajax/libs/3Dmol/2.4.2/3Dmol-min.js');\n}\n\nvar viewer_17479196806863477 = null;\nvar warn = document.getElementById(\"3dmolwarning_17479196806863477\");\nif(warn) {\n    warn.parentNode.removeChild(warn);\n}\n$3Dmolpromise.then(function() {\nviewer_17479196806863477 = $3Dmol.createViewer(document.getElementById(\"3dmolviewer_17479196806863477\"),{backgroundColor:\"white\"});\n$3Dmol.download(\"pdb:6VSB\", viewer_17479196806863477, {}, function() {\nviewer_17479196806863477.zoomTo();\n\tviewer_17479196806863477.setStyle({\"line\": {\"color\": \"greenCarbon\"}});\nviewer_17479196806863477.render();\n})\n});\n</script>",
      "text/html": [
       "<div id=\"3dmolviewer_17479196806863477\"  style=\"position: relative; width: 640px; height: 480px;\">\n",
       "        <p id=\"3dmolwarning_17479196806863477\" style=\"background-color:#ffcccc;color:black\">3Dmol.js failed to load for some reason.  Please check your browser console for error messages.<br></p>\n",
       "        </div>\n",
       "<script>\n",
       "\n",
       "var loadScriptAsync = function(uri){\n",
       "  return new Promise((resolve, reject) => {\n",
       "    //this is to ignore the existence of requirejs amd\n",
       "    var savedexports, savedmodule;\n",
       "    if (typeof exports !== 'undefined') savedexports = exports;\n",
       "    else exports = {}\n",
       "    if (typeof module !== 'undefined') savedmodule = module;\n",
       "    else module = {}\n",
       "\n",
       "    var tag = document.createElement('script');\n",
       "    tag.src = uri;\n",
       "    tag.async = true;\n",
       "    tag.onload = () => {\n",
       "        exports = savedexports;\n",
       "        module = savedmodule;\n",
       "        resolve();\n",
       "    };\n",
       "  var firstScriptTag = document.getElementsByTagName('script')[0];\n",
       "  firstScriptTag.parentNode.insertBefore(tag, firstScriptTag);\n",
       "});\n",
       "};\n",
       "\n",
       "if(typeof $3Dmolpromise === 'undefined') {\n",
       "$3Dmolpromise = null;\n",
       "  $3Dmolpromise = loadScriptAsync('https://cdnjs.cloudflare.com/ajax/libs/3Dmol/2.4.2/3Dmol-min.js');\n",
       "}\n",
       "\n",
       "var viewer_17479196806863477 = null;\n",
       "var warn = document.getElementById(\"3dmolwarning_17479196806863477\");\n",
       "if(warn) {\n",
       "    warn.parentNode.removeChild(warn);\n",
       "}\n",
       "$3Dmolpromise.then(function() {\n",
       "viewer_17479196806863477 = $3Dmol.createViewer(document.getElementById(\"3dmolviewer_17479196806863477\"),{backgroundColor:\"white\"});\n",
       "$3Dmol.download(\"pdb:6VSB\", viewer_17479196806863477, {}, function() {\n",
       "viewer_17479196806863477.zoomTo();\n",
       "\tviewer_17479196806863477.setStyle({\"line\": {\"color\": \"greenCarbon\"}});\n",
       "viewer_17479196806863477.render();\n",
       "})\n",
       "});\n",
       "</script>"
      ]
     },
     "metadata": {},
     "output_type": "display_data"
    },
    {
     "data": {
      "text/plain": [
       "<py3Dmol.view at 0x7965c9c67d00>"
      ]
     },
     "execution_count": 5,
     "metadata": {},
     "output_type": "execute_result"
    }
   ],
   "source": [
    " #Line Style\n",
    "\n",
    "view = py3Dmol.view(query='pdb:6VSB')\n",
    "view.setStyle({'line': {'color': 'greenCarbon'}})\n",
    "view"
   ]
  },
  {
   "cell_type": "code",
   "execution_count": 6,
   "id": "3e6203f6",
   "metadata": {
    "execution": {
     "iopub.execute_input": "2025-05-22T13:14:40.704699Z",
     "iopub.status.busy": "2025-05-22T13:14:40.704313Z",
     "iopub.status.idle": "2025-05-22T13:14:40.712663Z",
     "shell.execute_reply": "2025-05-22T13:14:40.711648Z"
    },
    "papermill": {
     "duration": 0.01593,
     "end_time": "2025-05-22T13:14:40.714782",
     "exception": false,
     "start_time": "2025-05-22T13:14:40.698852",
     "status": "completed"
    },
    "tags": []
   },
   "outputs": [
    {
     "data": {
      "application/3dmoljs_load.v0": "<div id=\"3dmolviewer_17479196807065177\"  style=\"position: relative; width: 640px; height: 480px;\">\n        <p id=\"3dmolwarning_17479196807065177\" style=\"background-color:#ffcccc;color:black\">3Dmol.js failed to load for some reason.  Please check your browser console for error messages.<br></p>\n        </div>\n<script>\n\nvar loadScriptAsync = function(uri){\n  return new Promise((resolve, reject) => {\n    //this is to ignore the existence of requirejs amd\n    var savedexports, savedmodule;\n    if (typeof exports !== 'undefined') savedexports = exports;\n    else exports = {}\n    if (typeof module !== 'undefined') savedmodule = module;\n    else module = {}\n\n    var tag = document.createElement('script');\n    tag.src = uri;\n    tag.async = true;\n    tag.onload = () => {\n        exports = savedexports;\n        module = savedmodule;\n        resolve();\n    };\n  var firstScriptTag = document.getElementsByTagName('script')[0];\n  firstScriptTag.parentNode.insertBefore(tag, firstScriptTag);\n});\n};\n\nif(typeof $3Dmolpromise === 'undefined') {\n$3Dmolpromise = null;\n  $3Dmolpromise = loadScriptAsync('https://cdnjs.cloudflare.com/ajax/libs/3Dmol/2.4.2/3Dmol-min.js');\n}\n\nvar viewer_17479196807065177 = null;\nvar warn = document.getElementById(\"3dmolwarning_17479196807065177\");\nif(warn) {\n    warn.parentNode.removeChild(warn);\n}\n$3Dmolpromise.then(function() {\nviewer_17479196807065177 = $3Dmol.createViewer(document.getElementById(\"3dmolviewer_17479196807065177\"),{backgroundColor:\"white\"});\n$3Dmol.download(\"pdb:6VSB\", viewer_17479196807065177, {}, function() {\nviewer_17479196807065177.zoomTo();\n\tviewer_17479196807065177.setStyle({\"stick\": {\"radius\": 0.2}});\nviewer_17479196807065177.render();\n})\n});\n</script>",
      "text/html": [
       "<div id=\"3dmolviewer_17479196807065177\"  style=\"position: relative; width: 640px; height: 480px;\">\n",
       "        <p id=\"3dmolwarning_17479196807065177\" style=\"background-color:#ffcccc;color:black\">3Dmol.js failed to load for some reason.  Please check your browser console for error messages.<br></p>\n",
       "        </div>\n",
       "<script>\n",
       "\n",
       "var loadScriptAsync = function(uri){\n",
       "  return new Promise((resolve, reject) => {\n",
       "    //this is to ignore the existence of requirejs amd\n",
       "    var savedexports, savedmodule;\n",
       "    if (typeof exports !== 'undefined') savedexports = exports;\n",
       "    else exports = {}\n",
       "    if (typeof module !== 'undefined') savedmodule = module;\n",
       "    else module = {}\n",
       "\n",
       "    var tag = document.createElement('script');\n",
       "    tag.src = uri;\n",
       "    tag.async = true;\n",
       "    tag.onload = () => {\n",
       "        exports = savedexports;\n",
       "        module = savedmodule;\n",
       "        resolve();\n",
       "    };\n",
       "  var firstScriptTag = document.getElementsByTagName('script')[0];\n",
       "  firstScriptTag.parentNode.insertBefore(tag, firstScriptTag);\n",
       "});\n",
       "};\n",
       "\n",
       "if(typeof $3Dmolpromise === 'undefined') {\n",
       "$3Dmolpromise = null;\n",
       "  $3Dmolpromise = loadScriptAsync('https://cdnjs.cloudflare.com/ajax/libs/3Dmol/2.4.2/3Dmol-min.js');\n",
       "}\n",
       "\n",
       "var viewer_17479196807065177 = null;\n",
       "var warn = document.getElementById(\"3dmolwarning_17479196807065177\");\n",
       "if(warn) {\n",
       "    warn.parentNode.removeChild(warn);\n",
       "}\n",
       "$3Dmolpromise.then(function() {\n",
       "viewer_17479196807065177 = $3Dmol.createViewer(document.getElementById(\"3dmolviewer_17479196807065177\"),{backgroundColor:\"white\"});\n",
       "$3Dmol.download(\"pdb:6VSB\", viewer_17479196807065177, {}, function() {\n",
       "viewer_17479196807065177.zoomTo();\n",
       "\tviewer_17479196807065177.setStyle({\"stick\": {\"radius\": 0.2}});\n",
       "viewer_17479196807065177.render();\n",
       "})\n",
       "});\n",
       "</script>"
      ]
     },
     "metadata": {},
     "output_type": "display_data"
    },
    {
     "data": {
      "text/plain": [
       "<py3Dmol.view at 0x7965c9c661d0>"
      ]
     },
     "execution_count": 6,
     "metadata": {},
     "output_type": "execute_result"
    }
   ],
   "source": [
    "#Stick Style\n",
    "\n",
    "view = py3Dmol.view(query='pdb:6VSB')\n",
    "view.setStyle({'stick': {'radius': 0.2}})\n",
    "view"
   ]
  },
  {
   "cell_type": "code",
   "execution_count": 7,
   "id": "44a0980d",
   "metadata": {
    "execution": {
     "iopub.execute_input": "2025-05-22T13:14:40.725416Z",
     "iopub.status.busy": "2025-05-22T13:14:40.725084Z",
     "iopub.status.idle": "2025-05-22T13:14:40.733269Z",
     "shell.execute_reply": "2025-05-22T13:14:40.732247Z"
    },
    "papermill": {
     "duration": 0.016355,
     "end_time": "2025-05-22T13:14:40.735672",
     "exception": false,
     "start_time": "2025-05-22T13:14:40.719317",
     "status": "completed"
    },
    "tags": []
   },
   "outputs": [
    {
     "data": {
      "application/3dmoljs_load.v0": "<div id=\"3dmolviewer_1747919680727259\"  style=\"position: relative; width: 640px; height: 480px;\">\n        <p id=\"3dmolwarning_1747919680727259\" style=\"background-color:#ffcccc;color:black\">3Dmol.js failed to load for some reason.  Please check your browser console for error messages.<br></p>\n        </div>\n<script>\n\nvar loadScriptAsync = function(uri){\n  return new Promise((resolve, reject) => {\n    //this is to ignore the existence of requirejs amd\n    var savedexports, savedmodule;\n    if (typeof exports !== 'undefined') savedexports = exports;\n    else exports = {}\n    if (typeof module !== 'undefined') savedmodule = module;\n    else module = {}\n\n    var tag = document.createElement('script');\n    tag.src = uri;\n    tag.async = true;\n    tag.onload = () => {\n        exports = savedexports;\n        module = savedmodule;\n        resolve();\n    };\n  var firstScriptTag = document.getElementsByTagName('script')[0];\n  firstScriptTag.parentNode.insertBefore(tag, firstScriptTag);\n});\n};\n\nif(typeof $3Dmolpromise === 'undefined') {\n$3Dmolpromise = null;\n  $3Dmolpromise = loadScriptAsync('https://cdnjs.cloudflare.com/ajax/libs/3Dmol/2.4.2/3Dmol-min.js');\n}\n\nvar viewer_1747919680727259 = null;\nvar warn = document.getElementById(\"3dmolwarning_1747919680727259\");\nif(warn) {\n    warn.parentNode.removeChild(warn);\n}\n$3Dmolpromise.then(function() {\nviewer_1747919680727259 = $3Dmol.createViewer(document.getElementById(\"3dmolviewer_1747919680727259\"),{backgroundColor:\"white\"});\n$3Dmol.download(\"pdb:6VSB\", viewer_1747919680727259, {}, function() {\nviewer_1747919680727259.zoomTo();\n\tviewer_1747919680727259.addSurface(1,{\"opacity\": 0.7, \"color\": \"lightblue\"});\nviewer_1747919680727259.render();\n})\n});\n</script>",
      "text/html": [
       "<div id=\"3dmolviewer_1747919680727259\"  style=\"position: relative; width: 640px; height: 480px;\">\n",
       "        <p id=\"3dmolwarning_1747919680727259\" style=\"background-color:#ffcccc;color:black\">3Dmol.js failed to load for some reason.  Please check your browser console for error messages.<br></p>\n",
       "        </div>\n",
       "<script>\n",
       "\n",
       "var loadScriptAsync = function(uri){\n",
       "  return new Promise((resolve, reject) => {\n",
       "    //this is to ignore the existence of requirejs amd\n",
       "    var savedexports, savedmodule;\n",
       "    if (typeof exports !== 'undefined') savedexports = exports;\n",
       "    else exports = {}\n",
       "    if (typeof module !== 'undefined') savedmodule = module;\n",
       "    else module = {}\n",
       "\n",
       "    var tag = document.createElement('script');\n",
       "    tag.src = uri;\n",
       "    tag.async = true;\n",
       "    tag.onload = () => {\n",
       "        exports = savedexports;\n",
       "        module = savedmodule;\n",
       "        resolve();\n",
       "    };\n",
       "  var firstScriptTag = document.getElementsByTagName('script')[0];\n",
       "  firstScriptTag.parentNode.insertBefore(tag, firstScriptTag);\n",
       "});\n",
       "};\n",
       "\n",
       "if(typeof $3Dmolpromise === 'undefined') {\n",
       "$3Dmolpromise = null;\n",
       "  $3Dmolpromise = loadScriptAsync('https://cdnjs.cloudflare.com/ajax/libs/3Dmol/2.4.2/3Dmol-min.js');\n",
       "}\n",
       "\n",
       "var viewer_1747919680727259 = null;\n",
       "var warn = document.getElementById(\"3dmolwarning_1747919680727259\");\n",
       "if(warn) {\n",
       "    warn.parentNode.removeChild(warn);\n",
       "}\n",
       "$3Dmolpromise.then(function() {\n",
       "viewer_1747919680727259 = $3Dmol.createViewer(document.getElementById(\"3dmolviewer_1747919680727259\"),{backgroundColor:\"white\"});\n",
       "$3Dmol.download(\"pdb:6VSB\", viewer_1747919680727259, {}, function() {\n",
       "viewer_1747919680727259.zoomTo();\n",
       "\tviewer_1747919680727259.addSurface(1,{\"opacity\": 0.7, \"color\": \"lightblue\"});\n",
       "viewer_1747919680727259.render();\n",
       "})\n",
       "});\n",
       "</script>"
      ]
     },
     "metadata": {},
     "output_type": "display_data"
    },
    {
     "data": {
      "text/plain": [
       "<py3Dmol.view at 0x7965c9c65180>"
      ]
     },
     "execution_count": 7,
     "metadata": {},
     "output_type": "execute_result"
    }
   ],
   "source": [
    "#Surface Style\n",
    "\n",
    "view = py3Dmol.view(query='pdb:6VSB')\n",
    "view.addSurface(py3Dmol.VDW, {'opacity': 0.7, 'color': 'lightblue'})\n",
    "view\n"
   ]
  },
  {
   "cell_type": "code",
   "execution_count": 8,
   "id": "3e976fa1",
   "metadata": {
    "execution": {
     "iopub.execute_input": "2025-05-22T13:14:40.746761Z",
     "iopub.status.busy": "2025-05-22T13:14:40.746417Z",
     "iopub.status.idle": "2025-05-22T13:14:40.755058Z",
     "shell.execute_reply": "2025-05-22T13:14:40.753875Z"
    },
    "papermill": {
     "duration": 0.016891,
     "end_time": "2025-05-22T13:14:40.757299",
     "exception": false,
     "start_time": "2025-05-22T13:14:40.740408",
     "status": "completed"
    },
    "tags": []
   },
   "outputs": [
    {
     "data": {
      "application/3dmoljs_load.v0": "<div id=\"3dmolviewer_17479196807487168\"  style=\"position: relative; width: 640px; height: 480px;\">\n        <p id=\"3dmolwarning_17479196807487168\" style=\"background-color:#ffcccc;color:black\">3Dmol.js failed to load for some reason.  Please check your browser console for error messages.<br></p>\n        </div>\n<script>\n\nvar loadScriptAsync = function(uri){\n  return new Promise((resolve, reject) => {\n    //this is to ignore the existence of requirejs amd\n    var savedexports, savedmodule;\n    if (typeof exports !== 'undefined') savedexports = exports;\n    else exports = {}\n    if (typeof module !== 'undefined') savedmodule = module;\n    else module = {}\n\n    var tag = document.createElement('script');\n    tag.src = uri;\n    tag.async = true;\n    tag.onload = () => {\n        exports = savedexports;\n        module = savedmodule;\n        resolve();\n    };\n  var firstScriptTag = document.getElementsByTagName('script')[0];\n  firstScriptTag.parentNode.insertBefore(tag, firstScriptTag);\n});\n};\n\nif(typeof $3Dmolpromise === 'undefined') {\n$3Dmolpromise = null;\n  $3Dmolpromise = loadScriptAsync('https://cdnjs.cloudflare.com/ajax/libs/3Dmol/2.4.2/3Dmol-min.js');\n}\n\nvar viewer_17479196807487168 = null;\nvar warn = document.getElementById(\"3dmolwarning_17479196807487168\");\nif(warn) {\n    warn.parentNode.removeChild(warn);\n}\n$3Dmolpromise.then(function() {\nviewer_17479196807487168 = $3Dmol.createViewer(document.getElementById(\"3dmolviewer_17479196807487168\"),{backgroundColor:\"white\"});\n$3Dmol.download(\"pdb:6VSB\", viewer_17479196807487168, {}, function() {\nviewer_17479196807487168.zoomTo();\n\tviewer_17479196807487168.setStyle({\"cartoon\": {\"color\": \"spectrum\"}});\n\tviewer_17479196807487168.zoomTo();\nviewer_17479196807487168.render();\n})\n});\n</script>",
      "text/html": [
       "<div id=\"3dmolviewer_17479196807487168\"  style=\"position: relative; width: 640px; height: 480px;\">\n",
       "        <p id=\"3dmolwarning_17479196807487168\" style=\"background-color:#ffcccc;color:black\">3Dmol.js failed to load for some reason.  Please check your browser console for error messages.<br></p>\n",
       "        </div>\n",
       "<script>\n",
       "\n",
       "var loadScriptAsync = function(uri){\n",
       "  return new Promise((resolve, reject) => {\n",
       "    //this is to ignore the existence of requirejs amd\n",
       "    var savedexports, savedmodule;\n",
       "    if (typeof exports !== 'undefined') savedexports = exports;\n",
       "    else exports = {}\n",
       "    if (typeof module !== 'undefined') savedmodule = module;\n",
       "    else module = {}\n",
       "\n",
       "    var tag = document.createElement('script');\n",
       "    tag.src = uri;\n",
       "    tag.async = true;\n",
       "    tag.onload = () => {\n",
       "        exports = savedexports;\n",
       "        module = savedmodule;\n",
       "        resolve();\n",
       "    };\n",
       "  var firstScriptTag = document.getElementsByTagName('script')[0];\n",
       "  firstScriptTag.parentNode.insertBefore(tag, firstScriptTag);\n",
       "});\n",
       "};\n",
       "\n",
       "if(typeof $3Dmolpromise === 'undefined') {\n",
       "$3Dmolpromise = null;\n",
       "  $3Dmolpromise = loadScriptAsync('https://cdnjs.cloudflare.com/ajax/libs/3Dmol/2.4.2/3Dmol-min.js');\n",
       "}\n",
       "\n",
       "var viewer_17479196807487168 = null;\n",
       "var warn = document.getElementById(\"3dmolwarning_17479196807487168\");\n",
       "if(warn) {\n",
       "    warn.parentNode.removeChild(warn);\n",
       "}\n",
       "$3Dmolpromise.then(function() {\n",
       "viewer_17479196807487168 = $3Dmol.createViewer(document.getElementById(\"3dmolviewer_17479196807487168\"),{backgroundColor:\"white\"});\n",
       "$3Dmol.download(\"pdb:6VSB\", viewer_17479196807487168, {}, function() {\n",
       "viewer_17479196807487168.zoomTo();\n",
       "\tviewer_17479196807487168.setStyle({\"cartoon\": {\"color\": \"spectrum\"}});\n",
       "\tviewer_17479196807487168.zoomTo();\n",
       "viewer_17479196807487168.render();\n",
       "})\n",
       "});\n",
       "</script>"
      ]
     },
     "metadata": {},
     "output_type": "display_data"
    },
    {
     "data": {
      "text/plain": [
       "<py3Dmol.view at 0x7965c9c67a00>"
      ]
     },
     "execution_count": 8,
     "metadata": {},
     "output_type": "execute_result"
    }
   ],
   "source": [
    "#Control the View\n",
    "\n",
    "#Zoom In Automatically\n",
    "\n",
    "view = py3Dmol.view(query='pdb:6VSB')\n",
    "view.setStyle({'cartoon': {'color': 'spectrum'}})\n",
    "view.zoomTo()  # Centers and zooms to fit the molecule\n",
    "view"
   ]
  },
  {
   "cell_type": "code",
   "execution_count": 9,
   "id": "9462fb8b",
   "metadata": {
    "execution": {
     "iopub.execute_input": "2025-05-22T13:14:40.768808Z",
     "iopub.status.busy": "2025-05-22T13:14:40.768410Z",
     "iopub.status.idle": "2025-05-22T13:14:40.777630Z",
     "shell.execute_reply": "2025-05-22T13:14:40.776595Z"
    },
    "papermill": {
     "duration": 0.017322,
     "end_time": "2025-05-22T13:14:40.779600",
     "exception": false,
     "start_time": "2025-05-22T13:14:40.762278",
     "status": "completed"
    },
    "tags": []
   },
   "outputs": [
    {
     "data": {
      "application/3dmoljs_load.v0": "<div id=\"3dmolviewer_1747919680770826\"  style=\"position: relative; width: 640px; height: 480px;\">\n        <p id=\"3dmolwarning_1747919680770826\" style=\"background-color:#ffcccc;color:black\">3Dmol.js failed to load for some reason.  Please check your browser console for error messages.<br></p>\n        </div>\n<script>\n\nvar loadScriptAsync = function(uri){\n  return new Promise((resolve, reject) => {\n    //this is to ignore the existence of requirejs amd\n    var savedexports, savedmodule;\n    if (typeof exports !== 'undefined') savedexports = exports;\n    else exports = {}\n    if (typeof module !== 'undefined') savedmodule = module;\n    else module = {}\n\n    var tag = document.createElement('script');\n    tag.src = uri;\n    tag.async = true;\n    tag.onload = () => {\n        exports = savedexports;\n        module = savedmodule;\n        resolve();\n    };\n  var firstScriptTag = document.getElementsByTagName('script')[0];\n  firstScriptTag.parentNode.insertBefore(tag, firstScriptTag);\n});\n};\n\nif(typeof $3Dmolpromise === 'undefined') {\n$3Dmolpromise = null;\n  $3Dmolpromise = loadScriptAsync('https://cdnjs.cloudflare.com/ajax/libs/3Dmol/2.4.2/3Dmol-min.js');\n}\n\nvar viewer_1747919680770826 = null;\nvar warn = document.getElementById(\"3dmolwarning_1747919680770826\");\nif(warn) {\n    warn.parentNode.removeChild(warn);\n}\n$3Dmolpromise.then(function() {\nviewer_1747919680770826 = $3Dmol.createViewer(document.getElementById(\"3dmolviewer_1747919680770826\"),{backgroundColor:\"white\"});\n$3Dmol.download(\"pdb:6VSB\", viewer_1747919680770826, {}, function() {\nviewer_1747919680770826.zoomTo();\n\tviewer_1747919680770826.setStyle({\"cartoon\": {\"color\": \"spectrum\"}});\n\tviewer_1747919680770826.rotate(90,\"y\");\nviewer_1747919680770826.render();\n})\n});\n</script>",
      "text/html": [
       "<div id=\"3dmolviewer_1747919680770826\"  style=\"position: relative; width: 640px; height: 480px;\">\n",
       "        <p id=\"3dmolwarning_1747919680770826\" style=\"background-color:#ffcccc;color:black\">3Dmol.js failed to load for some reason.  Please check your browser console for error messages.<br></p>\n",
       "        </div>\n",
       "<script>\n",
       "\n",
       "var loadScriptAsync = function(uri){\n",
       "  return new Promise((resolve, reject) => {\n",
       "    //this is to ignore the existence of requirejs amd\n",
       "    var savedexports, savedmodule;\n",
       "    if (typeof exports !== 'undefined') savedexports = exports;\n",
       "    else exports = {}\n",
       "    if (typeof module !== 'undefined') savedmodule = module;\n",
       "    else module = {}\n",
       "\n",
       "    var tag = document.createElement('script');\n",
       "    tag.src = uri;\n",
       "    tag.async = true;\n",
       "    tag.onload = () => {\n",
       "        exports = savedexports;\n",
       "        module = savedmodule;\n",
       "        resolve();\n",
       "    };\n",
       "  var firstScriptTag = document.getElementsByTagName('script')[0];\n",
       "  firstScriptTag.parentNode.insertBefore(tag, firstScriptTag);\n",
       "});\n",
       "};\n",
       "\n",
       "if(typeof $3Dmolpromise === 'undefined') {\n",
       "$3Dmolpromise = null;\n",
       "  $3Dmolpromise = loadScriptAsync('https://cdnjs.cloudflare.com/ajax/libs/3Dmol/2.4.2/3Dmol-min.js');\n",
       "}\n",
       "\n",
       "var viewer_1747919680770826 = null;\n",
       "var warn = document.getElementById(\"3dmolwarning_1747919680770826\");\n",
       "if(warn) {\n",
       "    warn.parentNode.removeChild(warn);\n",
       "}\n",
       "$3Dmolpromise.then(function() {\n",
       "viewer_1747919680770826 = $3Dmol.createViewer(document.getElementById(\"3dmolviewer_1747919680770826\"),{backgroundColor:\"white\"});\n",
       "$3Dmol.download(\"pdb:6VSB\", viewer_1747919680770826, {}, function() {\n",
       "viewer_1747919680770826.zoomTo();\n",
       "\tviewer_1747919680770826.setStyle({\"cartoon\": {\"color\": \"spectrum\"}});\n",
       "\tviewer_1747919680770826.rotate(90,\"y\");\n",
       "viewer_1747919680770826.render();\n",
       "})\n",
       "});\n",
       "</script>"
      ]
     },
     "metadata": {},
     "output_type": "display_data"
    },
    {
     "data": {
      "text/plain": [
       "<py3Dmol.view at 0x7965c9c66920>"
      ]
     },
     "execution_count": 9,
     "metadata": {},
     "output_type": "execute_result"
    }
   ],
   "source": [
    "#Rotate View\n",
    "\n",
    "view = py3Dmol.view(query='pdb:6VSB')\n",
    "view.setStyle({'cartoon': {'color': 'spectrum'}})\n",
    "view.rotate(90, 'y')  # Rotates molecule 90 degrees along y-axis\n",
    "view"
   ]
  },
  {
   "cell_type": "code",
   "execution_count": null,
   "id": "d81d4628",
   "metadata": {
    "papermill": {
     "duration": 0.00487,
     "end_time": "2025-05-22T13:14:40.789811",
     "exception": false,
     "start_time": "2025-05-22T13:14:40.784941",
     "status": "completed"
    },
    "tags": []
   },
   "outputs": [],
   "source": []
  }
 ],
 "metadata": {
  "kaggle": {
   "accelerator": "none",
   "dataSources": [],
   "dockerImageVersionId": 30746,
   "isGpuEnabled": false,
   "isInternetEnabled": true,
   "language": "python",
   "sourceType": "notebook"
  },
  "kernelspec": {
   "display_name": "Python 3",
   "language": "python",
   "name": "python3"
  },
  "language_info": {
   "codemirror_mode": {
    "name": "ipython",
    "version": 3
   },
   "file_extension": ".py",
   "mimetype": "text/x-python",
   "name": "python",
   "nbconvert_exporter": "python",
   "pygments_lexer": "ipython3",
   "version": "3.10.13"
  },
  "papermill": {
   "default_parameters": {},
   "duration": 17.375082,
   "end_time": "2025-05-22T13:14:41.216125",
   "environment_variables": {},
   "exception": null,
   "input_path": "__notebook__.ipynb",
   "output_path": "__notebook__.ipynb",
   "parameters": {},
   "start_time": "2025-05-22T13:14:23.841043",
   "version": "2.5.0"
  }
 },
 "nbformat": 4,
 "nbformat_minor": 5
}
