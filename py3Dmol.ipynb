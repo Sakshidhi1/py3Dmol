{
 "cells": [
  {
   "cell_type": "code",
   "execution_count": 1,
   "id": "dc9087ad-acca-459b-bb51-573bad2796bd",
   "metadata": {},
   "outputs": [
    {
     "name": "stdout",
     "output_type": "stream",
     "text": [
      "Defaulting to user installation because normal site-packages is not writeable\n",
      "Requirement already satisfied: py3Dmol in c:\\users\\sakshi\\appdata\\roaming\\python\\python311\\site-packages (2.4.2)\n"
     ]
    }
   ],
   "source": [
    "!pip install py3Dmol\n"
   ]
  },
  {
   "cell_type": "code",
   "execution_count": 2,
   "id": "9b5904c7-166c-4398-9dcd-8690fb8b7028",
   "metadata": {},
   "outputs": [],
   "source": [
    "import py3Dmol"
   ]
  },
  {
   "cell_type": "code",
   "execution_count": 3,
   "id": "8a62c5f7-e05a-4179-9a6d-1a1aced1df7f",
   "metadata": {},
   "outputs": [
    {
     "data": {
      "application/3dmoljs_load.v0": "<div id=\"3dmolviewer_17479167960818002\"  style=\"position: relative; width: 640px; height: 480px;\">\n        <p id=\"3dmolwarning_17479167960818002\" style=\"background-color:#ffcccc;color:black\">3Dmol.js failed to load for some reason.  Please check your browser console for error messages.<br></p>\n        </div>\n<script>\n\nvar loadScriptAsync = function(uri){\n  return new Promise((resolve, reject) => {\n    //this is to ignore the existence of requirejs amd\n    var savedexports, savedmodule;\n    if (typeof exports !== 'undefined') savedexports = exports;\n    else exports = {}\n    if (typeof module !== 'undefined') savedmodule = module;\n    else module = {}\n\n    var tag = document.createElement('script');\n    tag.src = uri;\n    tag.async = true;\n    tag.onload = () => {\n        exports = savedexports;\n        module = savedmodule;\n        resolve();\n    };\n  var firstScriptTag = document.getElementsByTagName('script')[0];\n  firstScriptTag.parentNode.insertBefore(tag, firstScriptTag);\n});\n};\n\nif(typeof $3Dmolpromise === 'undefined') {\n$3Dmolpromise = null;\n  $3Dmolpromise = loadScriptAsync('https://cdnjs.cloudflare.com/ajax/libs/3Dmol/2.4.2/3Dmol-min.js');\n}\n\nvar viewer_17479167960818002 = null;\nvar warn = document.getElementById(\"3dmolwarning_17479167960818002\");\nif(warn) {\n    warn.parentNode.removeChild(warn);\n}\n$3Dmolpromise.then(function() {\nviewer_17479167960818002 = $3Dmol.createViewer(document.getElementById(\"3dmolviewer_17479167960818002\"),{backgroundColor:\"white\"});\n$3Dmol.download(\"6VSB\", viewer_17479167960818002, {}, function() {\nviewer_17479167960818002.zoomTo();\n\tviewer_17479167960818002.setStyle({\"cartoon\": {\"color\": \"spectrum\"}});\nviewer_17479167960818002.render();\n})\n});\n</script>",
      "text/html": [
       "<div id=\"3dmolviewer_17479167960818002\"  style=\"position: relative; width: 640px; height: 480px;\">\n",
       "        <p id=\"3dmolwarning_17479167960818002\" style=\"background-color:#ffcccc;color:black\">3Dmol.js failed to load for some reason.  Please check your browser console for error messages.<br></p>\n",
       "        </div>\n",
       "<script>\n",
       "\n",
       "var loadScriptAsync = function(uri){\n",
       "  return new Promise((resolve, reject) => {\n",
       "    //this is to ignore the existence of requirejs amd\n",
       "    var savedexports, savedmodule;\n",
       "    if (typeof exports !== 'undefined') savedexports = exports;\n",
       "    else exports = {}\n",
       "    if (typeof module !== 'undefined') savedmodule = module;\n",
       "    else module = {}\n",
       "\n",
       "    var tag = document.createElement('script');\n",
       "    tag.src = uri;\n",
       "    tag.async = true;\n",
       "    tag.onload = () => {\n",
       "        exports = savedexports;\n",
       "        module = savedmodule;\n",
       "        resolve();\n",
       "    };\n",
       "  var firstScriptTag = document.getElementsByTagName('script')[0];\n",
       "  firstScriptTag.parentNode.insertBefore(tag, firstScriptTag);\n",
       "});\n",
       "};\n",
       "\n",
       "if(typeof $3Dmolpromise === 'undefined') {\n",
       "$3Dmolpromise = null;\n",
       "  $3Dmolpromise = loadScriptAsync('https://cdnjs.cloudflare.com/ajax/libs/3Dmol/2.4.2/3Dmol-min.js');\n",
       "}\n",
       "\n",
       "var viewer_17479167960818002 = null;\n",
       "var warn = document.getElementById(\"3dmolwarning_17479167960818002\");\n",
       "if(warn) {\n",
       "    warn.parentNode.removeChild(warn);\n",
       "}\n",
       "$3Dmolpromise.then(function() {\n",
       "viewer_17479167960818002 = $3Dmol.createViewer(document.getElementById(\"3dmolviewer_17479167960818002\"),{backgroundColor:\"white\"});\n",
       "$3Dmol.download(\"6VSB\", viewer_17479167960818002, {}, function() {\n",
       "viewer_17479167960818002.zoomTo();\n",
       "\tviewer_17479167960818002.setStyle({\"cartoon\": {\"color\": \"spectrum\"}});\n",
       "viewer_17479167960818002.render();\n",
       "})\n",
       "});\n",
       "</script>"
      ]
     },
     "metadata": {},
     "output_type": "display_data"
    },
    {
     "data": {
      "text/plain": [
       "<py3Dmol.view at 0x2b9c25eb650>"
      ]
     },
     "execution_count": 3,
     "metadata": {},
     "output_type": "execute_result"
    }
   ],
   "source": [
    "# Load the structure from the Protein Data Bank (PDB) using its ID\n",
    "view = py3Dmol.view(query='6VSB')\n",
    "view.setStyle({'cartoon': {'color': 'spectrum'}})\n",
    "view\n"
   ]
  },
  {
   "cell_type": "code",
   "execution_count": 4,
   "id": "d4dab52a-a4e3-4cf2-b0b6-803c279249e6",
   "metadata": {},
   "outputs": [
    {
     "data": {
      "application/3dmoljs_load.v0": "<div id=\"3dmolviewer_17479168084272714\"  style=\"position: relative; width: 640px; height: 480px;\">\n        <p id=\"3dmolwarning_17479168084272714\" style=\"background-color:#ffcccc;color:black\">3Dmol.js failed to load for some reason.  Please check your browser console for error messages.<br></p>\n        </div>\n<script>\n\nvar loadScriptAsync = function(uri){\n  return new Promise((resolve, reject) => {\n    //this is to ignore the existence of requirejs amd\n    var savedexports, savedmodule;\n    if (typeof exports !== 'undefined') savedexports = exports;\n    else exports = {}\n    if (typeof module !== 'undefined') savedmodule = module;\n    else module = {}\n\n    var tag = document.createElement('script');\n    tag.src = uri;\n    tag.async = true;\n    tag.onload = () => {\n        exports = savedexports;\n        module = savedmodule;\n        resolve();\n    };\n  var firstScriptTag = document.getElementsByTagName('script')[0];\n  firstScriptTag.parentNode.insertBefore(tag, firstScriptTag);\n});\n};\n\nif(typeof $3Dmolpromise === 'undefined') {\n$3Dmolpromise = null;\n  $3Dmolpromise = loadScriptAsync('https://cdnjs.cloudflare.com/ajax/libs/3Dmol/2.4.2/3Dmol-min.js');\n}\n\nvar viewer_17479168084272714 = null;\nvar warn = document.getElementById(\"3dmolwarning_17479168084272714\");\nif(warn) {\n    warn.parentNode.removeChild(warn);\n}\n$3Dmolpromise.then(function() {\nviewer_17479168084272714 = $3Dmol.createViewer(document.getElementById(\"3dmolviewer_17479168084272714\"),{backgroundColor:\"white\"});\n$3Dmol.download(\"6VSB\", viewer_17479168084272714, {}, function() {\nviewer_17479168084272714.zoomTo();\n\tviewer_17479168084272714.setStyle({\"sphere\": {\"color\": \"spectrum\"}});\nviewer_17479168084272714.render();\n})\n});\n</script>",
      "text/html": [
       "<div id=\"3dmolviewer_17479168084272714\"  style=\"position: relative; width: 640px; height: 480px;\">\n",
       "        <p id=\"3dmolwarning_17479168084272714\" style=\"background-color:#ffcccc;color:black\">3Dmol.js failed to load for some reason.  Please check your browser console for error messages.<br></p>\n",
       "        </div>\n",
       "<script>\n",
       "\n",
       "var loadScriptAsync = function(uri){\n",
       "  return new Promise((resolve, reject) => {\n",
       "    //this is to ignore the existence of requirejs amd\n",
       "    var savedexports, savedmodule;\n",
       "    if (typeof exports !== 'undefined') savedexports = exports;\n",
       "    else exports = {}\n",
       "    if (typeof module !== 'undefined') savedmodule = module;\n",
       "    else module = {}\n",
       "\n",
       "    var tag = document.createElement('script');\n",
       "    tag.src = uri;\n",
       "    tag.async = true;\n",
       "    tag.onload = () => {\n",
       "        exports = savedexports;\n",
       "        module = savedmodule;\n",
       "        resolve();\n",
       "    };\n",
       "  var firstScriptTag = document.getElementsByTagName('script')[0];\n",
       "  firstScriptTag.parentNode.insertBefore(tag, firstScriptTag);\n",
       "});\n",
       "};\n",
       "\n",
       "if(typeof $3Dmolpromise === 'undefined') {\n",
       "$3Dmolpromise = null;\n",
       "  $3Dmolpromise = loadScriptAsync('https://cdnjs.cloudflare.com/ajax/libs/3Dmol/2.4.2/3Dmol-min.js');\n",
       "}\n",
       "\n",
       "var viewer_17479168084272714 = null;\n",
       "var warn = document.getElementById(\"3dmolwarning_17479168084272714\");\n",
       "if(warn) {\n",
       "    warn.parentNode.removeChild(warn);\n",
       "}\n",
       "$3Dmolpromise.then(function() {\n",
       "viewer_17479168084272714 = $3Dmol.createViewer(document.getElementById(\"3dmolviewer_17479168084272714\"),{backgroundColor:\"white\"});\n",
       "$3Dmol.download(\"6VSB\", viewer_17479168084272714, {}, function() {\n",
       "viewer_17479168084272714.zoomTo();\n",
       "\tviewer_17479168084272714.setStyle({\"sphere\": {\"color\": \"spectrum\"}});\n",
       "viewer_17479168084272714.render();\n",
       "})\n",
       "});\n",
       "</script>"
      ]
     },
     "metadata": {},
     "output_type": "display_data"
    },
    {
     "data": {
      "text/plain": [
       "<py3Dmol.view at 0x2b9c25fa690>"
      ]
     },
     "execution_count": 4,
     "metadata": {},
     "output_type": "execute_result"
    }
   ],
   "source": [
    "# Change Visualization Style\n",
    "#Sphere Style\n",
    "\n",
    "view = py3Dmol.view(query='6VSB')\n",
    "view.setStyle({'sphere': {'color': 'spectrum'}})\n",
    "view"
   ]
  },
  {
   "cell_type": "code",
   "execution_count": 5,
   "id": "bb1f0d10-9fe7-4e27-aadf-dac0b9d3044a",
   "metadata": {},
   "outputs": [
    {
     "data": {
      "application/3dmoljs_load.v0": "<div id=\"3dmolviewer_1747916821866166\"  style=\"position: relative; width: 640px; height: 480px;\">\n        <p id=\"3dmolwarning_1747916821866166\" style=\"background-color:#ffcccc;color:black\">3Dmol.js failed to load for some reason.  Please check your browser console for error messages.<br></p>\n        </div>\n<script>\n\nvar loadScriptAsync = function(uri){\n  return new Promise((resolve, reject) => {\n    //this is to ignore the existence of requirejs amd\n    var savedexports, savedmodule;\n    if (typeof exports !== 'undefined') savedexports = exports;\n    else exports = {}\n    if (typeof module !== 'undefined') savedmodule = module;\n    else module = {}\n\n    var tag = document.createElement('script');\n    tag.src = uri;\n    tag.async = true;\n    tag.onload = () => {\n        exports = savedexports;\n        module = savedmodule;\n        resolve();\n    };\n  var firstScriptTag = document.getElementsByTagName('script')[0];\n  firstScriptTag.parentNode.insertBefore(tag, firstScriptTag);\n});\n};\n\nif(typeof $3Dmolpromise === 'undefined') {\n$3Dmolpromise = null;\n  $3Dmolpromise = loadScriptAsync('https://cdnjs.cloudflare.com/ajax/libs/3Dmol/2.4.2/3Dmol-min.js');\n}\n\nvar viewer_1747916821866166 = null;\nvar warn = document.getElementById(\"3dmolwarning_1747916821866166\");\nif(warn) {\n    warn.parentNode.removeChild(warn);\n}\n$3Dmolpromise.then(function() {\nviewer_1747916821866166 = $3Dmol.createViewer(document.getElementById(\"3dmolviewer_1747916821866166\"),{backgroundColor:\"white\"});\n$3Dmol.download(\"pdb:6VSB\", viewer_1747916821866166, {}, function() {\nviewer_1747916821866166.zoomTo();\n\tviewer_1747916821866166.setStyle({\"line\": {\"color\": \"greenCarbon\"}});\nviewer_1747916821866166.render();\n})\n});\n</script>",
      "text/html": [
       "<div id=\"3dmolviewer_1747916821866166\"  style=\"position: relative; width: 640px; height: 480px;\">\n",
       "        <p id=\"3dmolwarning_1747916821866166\" style=\"background-color:#ffcccc;color:black\">3Dmol.js failed to load for some reason.  Please check your browser console for error messages.<br></p>\n",
       "        </div>\n",
       "<script>\n",
       "\n",
       "var loadScriptAsync = function(uri){\n",
       "  return new Promise((resolve, reject) => {\n",
       "    //this is to ignore the existence of requirejs amd\n",
       "    var savedexports, savedmodule;\n",
       "    if (typeof exports !== 'undefined') savedexports = exports;\n",
       "    else exports = {}\n",
       "    if (typeof module !== 'undefined') savedmodule = module;\n",
       "    else module = {}\n",
       "\n",
       "    var tag = document.createElement('script');\n",
       "    tag.src = uri;\n",
       "    tag.async = true;\n",
       "    tag.onload = () => {\n",
       "        exports = savedexports;\n",
       "        module = savedmodule;\n",
       "        resolve();\n",
       "    };\n",
       "  var firstScriptTag = document.getElementsByTagName('script')[0];\n",
       "  firstScriptTag.parentNode.insertBefore(tag, firstScriptTag);\n",
       "});\n",
       "};\n",
       "\n",
       "if(typeof $3Dmolpromise === 'undefined') {\n",
       "$3Dmolpromise = null;\n",
       "  $3Dmolpromise = loadScriptAsync('https://cdnjs.cloudflare.com/ajax/libs/3Dmol/2.4.2/3Dmol-min.js');\n",
       "}\n",
       "\n",
       "var viewer_1747916821866166 = null;\n",
       "var warn = document.getElementById(\"3dmolwarning_1747916821866166\");\n",
       "if(warn) {\n",
       "    warn.parentNode.removeChild(warn);\n",
       "}\n",
       "$3Dmolpromise.then(function() {\n",
       "viewer_1747916821866166 = $3Dmol.createViewer(document.getElementById(\"3dmolviewer_1747916821866166\"),{backgroundColor:\"white\"});\n",
       "$3Dmol.download(\"pdb:6VSB\", viewer_1747916821866166, {}, function() {\n",
       "viewer_1747916821866166.zoomTo();\n",
       "\tviewer_1747916821866166.setStyle({\"line\": {\"color\": \"greenCarbon\"}});\n",
       "viewer_1747916821866166.render();\n",
       "})\n",
       "});\n",
       "</script>"
      ]
     },
     "metadata": {},
     "output_type": "display_data"
    },
    {
     "data": {
      "text/plain": [
       "<py3Dmol.view at 0x2b9c25faf50>"
      ]
     },
     "execution_count": 5,
     "metadata": {},
     "output_type": "execute_result"
    }
   ],
   "source": [
    " #Line Style\n",
    "\n",
    "view = py3Dmol.view(query='pdb:6VSB')\n",
    "view.setStyle({'line': {'color': 'greenCarbon'}})\n",
    "view"
   ]
  },
  {
   "cell_type": "code",
   "execution_count": 6,
   "id": "b50bb0be-e087-4237-b242-ea6e7260e4a8",
   "metadata": {},
   "outputs": [
    {
     "data": {
      "application/3dmoljs_load.v0": "<div id=\"3dmolviewer_17479168418585577\"  style=\"position: relative; width: 640px; height: 480px;\">\n        <p id=\"3dmolwarning_17479168418585577\" style=\"background-color:#ffcccc;color:black\">3Dmol.js failed to load for some reason.  Please check your browser console for error messages.<br></p>\n        </div>\n<script>\n\nvar loadScriptAsync = function(uri){\n  return new Promise((resolve, reject) => {\n    //this is to ignore the existence of requirejs amd\n    var savedexports, savedmodule;\n    if (typeof exports !== 'undefined') savedexports = exports;\n    else exports = {}\n    if (typeof module !== 'undefined') savedmodule = module;\n    else module = {}\n\n    var tag = document.createElement('script');\n    tag.src = uri;\n    tag.async = true;\n    tag.onload = () => {\n        exports = savedexports;\n        module = savedmodule;\n        resolve();\n    };\n  var firstScriptTag = document.getElementsByTagName('script')[0];\n  firstScriptTag.parentNode.insertBefore(tag, firstScriptTag);\n});\n};\n\nif(typeof $3Dmolpromise === 'undefined') {\n$3Dmolpromise = null;\n  $3Dmolpromise = loadScriptAsync('https://cdnjs.cloudflare.com/ajax/libs/3Dmol/2.4.2/3Dmol-min.js');\n}\n\nvar viewer_17479168418585577 = null;\nvar warn = document.getElementById(\"3dmolwarning_17479168418585577\");\nif(warn) {\n    warn.parentNode.removeChild(warn);\n}\n$3Dmolpromise.then(function() {\nviewer_17479168418585577 = $3Dmol.createViewer(document.getElementById(\"3dmolviewer_17479168418585577\"),{backgroundColor:\"white\"});\n$3Dmol.download(\"pdb:6VSB\", viewer_17479168418585577, {}, function() {\nviewer_17479168418585577.zoomTo();\n\tviewer_17479168418585577.setStyle({\"stick\": {\"radius\": 0.2}});\nviewer_17479168418585577.render();\n})\n});\n</script>",
      "text/html": [
       "<div id=\"3dmolviewer_17479168418585577\"  style=\"position: relative; width: 640px; height: 480px;\">\n",
       "        <p id=\"3dmolwarning_17479168418585577\" style=\"background-color:#ffcccc;color:black\">3Dmol.js failed to load for some reason.  Please check your browser console for error messages.<br></p>\n",
       "        </div>\n",
       "<script>\n",
       "\n",
       "var loadScriptAsync = function(uri){\n",
       "  return new Promise((resolve, reject) => {\n",
       "    //this is to ignore the existence of requirejs amd\n",
       "    var savedexports, savedmodule;\n",
       "    if (typeof exports !== 'undefined') savedexports = exports;\n",
       "    else exports = {}\n",
       "    if (typeof module !== 'undefined') savedmodule = module;\n",
       "    else module = {}\n",
       "\n",
       "    var tag = document.createElement('script');\n",
       "    tag.src = uri;\n",
       "    tag.async = true;\n",
       "    tag.onload = () => {\n",
       "        exports = savedexports;\n",
       "        module = savedmodule;\n",
       "        resolve();\n",
       "    };\n",
       "  var firstScriptTag = document.getElementsByTagName('script')[0];\n",
       "  firstScriptTag.parentNode.insertBefore(tag, firstScriptTag);\n",
       "});\n",
       "};\n",
       "\n",
       "if(typeof $3Dmolpromise === 'undefined') {\n",
       "$3Dmolpromise = null;\n",
       "  $3Dmolpromise = loadScriptAsync('https://cdnjs.cloudflare.com/ajax/libs/3Dmol/2.4.2/3Dmol-min.js');\n",
       "}\n",
       "\n",
       "var viewer_17479168418585577 = null;\n",
       "var warn = document.getElementById(\"3dmolwarning_17479168418585577\");\n",
       "if(warn) {\n",
       "    warn.parentNode.removeChild(warn);\n",
       "}\n",
       "$3Dmolpromise.then(function() {\n",
       "viewer_17479168418585577 = $3Dmol.createViewer(document.getElementById(\"3dmolviewer_17479168418585577\"),{backgroundColor:\"white\"});\n",
       "$3Dmol.download(\"pdb:6VSB\", viewer_17479168418585577, {}, function() {\n",
       "viewer_17479168418585577.zoomTo();\n",
       "\tviewer_17479168418585577.setStyle({\"stick\": {\"radius\": 0.2}});\n",
       "viewer_17479168418585577.render();\n",
       "})\n",
       "});\n",
       "</script>"
      ]
     },
     "metadata": {},
     "output_type": "display_data"
    },
    {
     "data": {
      "text/plain": [
       "<py3Dmol.view at 0x2b9c25dc4d0>"
      ]
     },
     "execution_count": 6,
     "metadata": {},
     "output_type": "execute_result"
    }
   ],
   "source": [
    "#Stick Style\n",
    "\n",
    "view = py3Dmol.view(query='pdb:6VSB')\n",
    "view.setStyle({'stick': {'radius': 0.2}})\n",
    "view"
   ]
  },
  {
   "cell_type": "code",
   "execution_count": 7,
   "id": "2307b4af-7237-4f98-b235-b9b4cbaafc36",
   "metadata": {},
   "outputs": [
    {
     "data": {
      "application/3dmoljs_load.v0": "<div id=\"3dmolviewer_17479168954343796\"  style=\"position: relative; width: 640px; height: 480px;\">\n        <p id=\"3dmolwarning_17479168954343796\" style=\"background-color:#ffcccc;color:black\">3Dmol.js failed to load for some reason.  Please check your browser console for error messages.<br></p>\n        </div>\n<script>\n\nvar loadScriptAsync = function(uri){\n  return new Promise((resolve, reject) => {\n    //this is to ignore the existence of requirejs amd\n    var savedexports, savedmodule;\n    if (typeof exports !== 'undefined') savedexports = exports;\n    else exports = {}\n    if (typeof module !== 'undefined') savedmodule = module;\n    else module = {}\n\n    var tag = document.createElement('script');\n    tag.src = uri;\n    tag.async = true;\n    tag.onload = () => {\n        exports = savedexports;\n        module = savedmodule;\n        resolve();\n    };\n  var firstScriptTag = document.getElementsByTagName('script')[0];\n  firstScriptTag.parentNode.insertBefore(tag, firstScriptTag);\n});\n};\n\nif(typeof $3Dmolpromise === 'undefined') {\n$3Dmolpromise = null;\n  $3Dmolpromise = loadScriptAsync('https://cdnjs.cloudflare.com/ajax/libs/3Dmol/2.4.2/3Dmol-min.js');\n}\n\nvar viewer_17479168954343796 = null;\nvar warn = document.getElementById(\"3dmolwarning_17479168954343796\");\nif(warn) {\n    warn.parentNode.removeChild(warn);\n}\n$3Dmolpromise.then(function() {\nviewer_17479168954343796 = $3Dmol.createViewer(document.getElementById(\"3dmolviewer_17479168954343796\"),{backgroundColor:\"white\"});\n$3Dmol.download(\"pdb:6VSB\", viewer_17479168954343796, {}, function() {\nviewer_17479168954343796.zoomTo();\n\tviewer_17479168954343796.addSurface(1,{\"opacity\": 0.7, \"color\": \"lightblue\"});\nviewer_17479168954343796.render();\n})\n});\n</script>",
      "text/html": [
       "<div id=\"3dmolviewer_17479168954343796\"  style=\"position: relative; width: 640px; height: 480px;\">\n",
       "        <p id=\"3dmolwarning_17479168954343796\" style=\"background-color:#ffcccc;color:black\">3Dmol.js failed to load for some reason.  Please check your browser console for error messages.<br></p>\n",
       "        </div>\n",
       "<script>\n",
       "\n",
       "var loadScriptAsync = function(uri){\n",
       "  return new Promise((resolve, reject) => {\n",
       "    //this is to ignore the existence of requirejs amd\n",
       "    var savedexports, savedmodule;\n",
       "    if (typeof exports !== 'undefined') savedexports = exports;\n",
       "    else exports = {}\n",
       "    if (typeof module !== 'undefined') savedmodule = module;\n",
       "    else module = {}\n",
       "\n",
       "    var tag = document.createElement('script');\n",
       "    tag.src = uri;\n",
       "    tag.async = true;\n",
       "    tag.onload = () => {\n",
       "        exports = savedexports;\n",
       "        module = savedmodule;\n",
       "        resolve();\n",
       "    };\n",
       "  var firstScriptTag = document.getElementsByTagName('script')[0];\n",
       "  firstScriptTag.parentNode.insertBefore(tag, firstScriptTag);\n",
       "});\n",
       "};\n",
       "\n",
       "if(typeof $3Dmolpromise === 'undefined') {\n",
       "$3Dmolpromise = null;\n",
       "  $3Dmolpromise = loadScriptAsync('https://cdnjs.cloudflare.com/ajax/libs/3Dmol/2.4.2/3Dmol-min.js');\n",
       "}\n",
       "\n",
       "var viewer_17479168954343796 = null;\n",
       "var warn = document.getElementById(\"3dmolwarning_17479168954343796\");\n",
       "if(warn) {\n",
       "    warn.parentNode.removeChild(warn);\n",
       "}\n",
       "$3Dmolpromise.then(function() {\n",
       "viewer_17479168954343796 = $3Dmol.createViewer(document.getElementById(\"3dmolviewer_17479168954343796\"),{backgroundColor:\"white\"});\n",
       "$3Dmol.download(\"pdb:6VSB\", viewer_17479168954343796, {}, function() {\n",
       "viewer_17479168954343796.zoomTo();\n",
       "\tviewer_17479168954343796.addSurface(1,{\"opacity\": 0.7, \"color\": \"lightblue\"});\n",
       "viewer_17479168954343796.render();\n",
       "})\n",
       "});\n",
       "</script>"
      ]
     },
     "metadata": {},
     "output_type": "display_data"
    },
    {
     "data": {
      "text/plain": [
       "<py3Dmol.view at 0x2b9c2604050>"
      ]
     },
     "execution_count": 7,
     "metadata": {},
     "output_type": "execute_result"
    }
   ],
   "source": [
    "#Surface Style\n",
    "\n",
    "view = py3Dmol.view(query='pdb:6VSB')\n",
    "view.addSurface(py3Dmol.VDW, {'opacity': 0.7, 'color': 'lightblue'})\n",
    "view\n"
   ]
  },
  {
   "cell_type": "code",
   "execution_count": 8,
   "id": "8e790977-1ca1-491e-bf36-79356568de16",
   "metadata": {},
   "outputs": [
    {
     "data": {
      "application/3dmoljs_load.v0": "<div id=\"3dmolviewer_17479169291549962\"  style=\"position: relative; width: 640px; height: 480px;\">\n        <p id=\"3dmolwarning_17479169291549962\" style=\"background-color:#ffcccc;color:black\">3Dmol.js failed to load for some reason.  Please check your browser console for error messages.<br></p>\n        </div>\n<script>\n\nvar loadScriptAsync = function(uri){\n  return new Promise((resolve, reject) => {\n    //this is to ignore the existence of requirejs amd\n    var savedexports, savedmodule;\n    if (typeof exports !== 'undefined') savedexports = exports;\n    else exports = {}\n    if (typeof module !== 'undefined') savedmodule = module;\n    else module = {}\n\n    var tag = document.createElement('script');\n    tag.src = uri;\n    tag.async = true;\n    tag.onload = () => {\n        exports = savedexports;\n        module = savedmodule;\n        resolve();\n    };\n  var firstScriptTag = document.getElementsByTagName('script')[0];\n  firstScriptTag.parentNode.insertBefore(tag, firstScriptTag);\n});\n};\n\nif(typeof $3Dmolpromise === 'undefined') {\n$3Dmolpromise = null;\n  $3Dmolpromise = loadScriptAsync('https://cdnjs.cloudflare.com/ajax/libs/3Dmol/2.4.2/3Dmol-min.js');\n}\n\nvar viewer_17479169291549962 = null;\nvar warn = document.getElementById(\"3dmolwarning_17479169291549962\");\nif(warn) {\n    warn.parentNode.removeChild(warn);\n}\n$3Dmolpromise.then(function() {\nviewer_17479169291549962 = $3Dmol.createViewer(document.getElementById(\"3dmolviewer_17479169291549962\"),{backgroundColor:\"white\"});\n$3Dmol.download(\"pdb:6VSB\", viewer_17479169291549962, {}, function() {\nviewer_17479169291549962.zoomTo();\n\tviewer_17479169291549962.setStyle({\"cartoon\": {\"color\": \"spectrum\"}});\n\tviewer_17479169291549962.zoomTo();\nviewer_17479169291549962.render();\n})\n});\n</script>",
      "text/html": [
       "<div id=\"3dmolviewer_17479169291549962\"  style=\"position: relative; width: 640px; height: 480px;\">\n",
       "        <p id=\"3dmolwarning_17479169291549962\" style=\"background-color:#ffcccc;color:black\">3Dmol.js failed to load for some reason.  Please check your browser console for error messages.<br></p>\n",
       "        </div>\n",
       "<script>\n",
       "\n",
       "var loadScriptAsync = function(uri){\n",
       "  return new Promise((resolve, reject) => {\n",
       "    //this is to ignore the existence of requirejs amd\n",
       "    var savedexports, savedmodule;\n",
       "    if (typeof exports !== 'undefined') savedexports = exports;\n",
       "    else exports = {}\n",
       "    if (typeof module !== 'undefined') savedmodule = module;\n",
       "    else module = {}\n",
       "\n",
       "    var tag = document.createElement('script');\n",
       "    tag.src = uri;\n",
       "    tag.async = true;\n",
       "    tag.onload = () => {\n",
       "        exports = savedexports;\n",
       "        module = savedmodule;\n",
       "        resolve();\n",
       "    };\n",
       "  var firstScriptTag = document.getElementsByTagName('script')[0];\n",
       "  firstScriptTag.parentNode.insertBefore(tag, firstScriptTag);\n",
       "});\n",
       "};\n",
       "\n",
       "if(typeof $3Dmolpromise === 'undefined') {\n",
       "$3Dmolpromise = null;\n",
       "  $3Dmolpromise = loadScriptAsync('https://cdnjs.cloudflare.com/ajax/libs/3Dmol/2.4.2/3Dmol-min.js');\n",
       "}\n",
       "\n",
       "var viewer_17479169291549962 = null;\n",
       "var warn = document.getElementById(\"3dmolwarning_17479169291549962\");\n",
       "if(warn) {\n",
       "    warn.parentNode.removeChild(warn);\n",
       "}\n",
       "$3Dmolpromise.then(function() {\n",
       "viewer_17479169291549962 = $3Dmol.createViewer(document.getElementById(\"3dmolviewer_17479169291549962\"),{backgroundColor:\"white\"});\n",
       "$3Dmol.download(\"pdb:6VSB\", viewer_17479169291549962, {}, function() {\n",
       "viewer_17479169291549962.zoomTo();\n",
       "\tviewer_17479169291549962.setStyle({\"cartoon\": {\"color\": \"spectrum\"}});\n",
       "\tviewer_17479169291549962.zoomTo();\n",
       "viewer_17479169291549962.render();\n",
       "})\n",
       "});\n",
       "</script>"
      ]
     },
     "metadata": {},
     "output_type": "display_data"
    },
    {
     "data": {
      "text/plain": [
       "<py3Dmol.view at 0x2b9c2604b90>"
      ]
     },
     "execution_count": 8,
     "metadata": {},
     "output_type": "execute_result"
    }
   ],
   "source": [
    "#Control the View\n",
    "\n",
    "#Zoom In Automatically\n",
    "\n",
    "view = py3Dmol.view(query='pdb:6VSB')\n",
    "view.setStyle({'cartoon': {'color': 'spectrum'}})\n",
    "view.zoomTo()  # Centers and zooms to fit the molecule\n",
    "view"
   ]
  },
  {
   "cell_type": "code",
   "execution_count": 9,
   "id": "cb49227c-dc0e-4224-8490-3a3e9796088d",
   "metadata": {},
   "outputs": [
    {
     "data": {
      "application/3dmoljs_load.v0": "<div id=\"3dmolviewer_17479169479610593\"  style=\"position: relative; width: 640px; height: 480px;\">\n        <p id=\"3dmolwarning_17479169479610593\" style=\"background-color:#ffcccc;color:black\">3Dmol.js failed to load for some reason.  Please check your browser console for error messages.<br></p>\n        </div>\n<script>\n\nvar loadScriptAsync = function(uri){\n  return new Promise((resolve, reject) => {\n    //this is to ignore the existence of requirejs amd\n    var savedexports, savedmodule;\n    if (typeof exports !== 'undefined') savedexports = exports;\n    else exports = {}\n    if (typeof module !== 'undefined') savedmodule = module;\n    else module = {}\n\n    var tag = document.createElement('script');\n    tag.src = uri;\n    tag.async = true;\n    tag.onload = () => {\n        exports = savedexports;\n        module = savedmodule;\n        resolve();\n    };\n  var firstScriptTag = document.getElementsByTagName('script')[0];\n  firstScriptTag.parentNode.insertBefore(tag, firstScriptTag);\n});\n};\n\nif(typeof $3Dmolpromise === 'undefined') {\n$3Dmolpromise = null;\n  $3Dmolpromise = loadScriptAsync('https://cdnjs.cloudflare.com/ajax/libs/3Dmol/2.4.2/3Dmol-min.js');\n}\n\nvar viewer_17479169479610593 = null;\nvar warn = document.getElementById(\"3dmolwarning_17479169479610593\");\nif(warn) {\n    warn.parentNode.removeChild(warn);\n}\n$3Dmolpromise.then(function() {\nviewer_17479169479610593 = $3Dmol.createViewer(document.getElementById(\"3dmolviewer_17479169479610593\"),{backgroundColor:\"white\"});\n$3Dmol.download(\"pdb:6VSB\", viewer_17479169479610593, {}, function() {\nviewer_17479169479610593.zoomTo();\n\tviewer_17479169479610593.setStyle({\"cartoon\": {\"color\": \"spectrum\"}});\n\tviewer_17479169479610593.rotate(90,\"y\");\nviewer_17479169479610593.render();\n})\n});\n</script>",
      "text/html": [
       "<div id=\"3dmolviewer_17479169479610593\"  style=\"position: relative; width: 640px; height: 480px;\">\n",
       "        <p id=\"3dmolwarning_17479169479610593\" style=\"background-color:#ffcccc;color:black\">3Dmol.js failed to load for some reason.  Please check your browser console for error messages.<br></p>\n",
       "        </div>\n",
       "<script>\n",
       "\n",
       "var loadScriptAsync = function(uri){\n",
       "  return new Promise((resolve, reject) => {\n",
       "    //this is to ignore the existence of requirejs amd\n",
       "    var savedexports, savedmodule;\n",
       "    if (typeof exports !== 'undefined') savedexports = exports;\n",
       "    else exports = {}\n",
       "    if (typeof module !== 'undefined') savedmodule = module;\n",
       "    else module = {}\n",
       "\n",
       "    var tag = document.createElement('script');\n",
       "    tag.src = uri;\n",
       "    tag.async = true;\n",
       "    tag.onload = () => {\n",
       "        exports = savedexports;\n",
       "        module = savedmodule;\n",
       "        resolve();\n",
       "    };\n",
       "  var firstScriptTag = document.getElementsByTagName('script')[0];\n",
       "  firstScriptTag.parentNode.insertBefore(tag, firstScriptTag);\n",
       "});\n",
       "};\n",
       "\n",
       "if(typeof $3Dmolpromise === 'undefined') {\n",
       "$3Dmolpromise = null;\n",
       "  $3Dmolpromise = loadScriptAsync('https://cdnjs.cloudflare.com/ajax/libs/3Dmol/2.4.2/3Dmol-min.js');\n",
       "}\n",
       "\n",
       "var viewer_17479169479610593 = null;\n",
       "var warn = document.getElementById(\"3dmolwarning_17479169479610593\");\n",
       "if(warn) {\n",
       "    warn.parentNode.removeChild(warn);\n",
       "}\n",
       "$3Dmolpromise.then(function() {\n",
       "viewer_17479169479610593 = $3Dmol.createViewer(document.getElementById(\"3dmolviewer_17479169479610593\"),{backgroundColor:\"white\"});\n",
       "$3Dmol.download(\"pdb:6VSB\", viewer_17479169479610593, {}, function() {\n",
       "viewer_17479169479610593.zoomTo();\n",
       "\tviewer_17479169479610593.setStyle({\"cartoon\": {\"color\": \"spectrum\"}});\n",
       "\tviewer_17479169479610593.rotate(90,\"y\");\n",
       "viewer_17479169479610593.render();\n",
       "})\n",
       "});\n",
       "</script>"
      ]
     },
     "metadata": {},
     "output_type": "display_data"
    },
    {
     "data": {
      "text/plain": [
       "<py3Dmol.view at 0x2b9c2605350>"
      ]
     },
     "execution_count": 9,
     "metadata": {},
     "output_type": "execute_result"
    }
   ],
   "source": [
    "#Rotate View\n",
    "\n",
    "view = py3Dmol.view(query='pdb:6VSB')\n",
    "view.setStyle({'cartoon': {'color': 'spectrum'}})\n",
    "view.rotate(90, 'y')  # Rotates molecule 90 degrees along y-axis\n",
    "view"
   ]
  },
  {
   "cell_type": "code",
   "execution_count": null,
   "id": "5180ebac-b7dc-4df1-9923-11451377029b",
   "metadata": {},
   "outputs": [],
   "source": []
  }
 ],
 "metadata": {
  "kernelspec": {
   "display_name": "Python 3 (ipykernel)",
   "language": "python",
   "name": "python3"
  },
  "language_info": {
   "codemirror_mode": {
    "name": "ipython",
    "version": 3
   },
   "file_extension": ".py",
   "mimetype": "text/x-python",
   "name": "python",
   "nbconvert_exporter": "python",
   "pygments_lexer": "ipython3",
   "version": "3.11.9"
  }
 },
 "nbformat": 4,
 "nbformat_minor": 5
}
